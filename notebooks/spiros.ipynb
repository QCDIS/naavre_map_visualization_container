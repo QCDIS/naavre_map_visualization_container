{
 "cells": [
  {
   "cell_type": "code",
   "execution_count": 1,
   "id": "854c645f-a14b-49ca-a9f5-cb49de30006a",
   "metadata": {},
   "outputs": [],
   "source": [
    "import fnmatch\n",
    "import json\n",
    "import getpass\n",
    "import os\n",
    "import pathlib\n",
    "import datetime\n",
    "import laspy\n",
    "\n",
    "\n",
    "import time\n",
    "import requests\n",
    "                    \n",
    "from dask.distributed import LocalCluster, SSHCluster \n",
    "from laserfarm import Retiler, DataProcessing, GeotiffWriter, MacroPipeline\n",
    "from laserfarm.remote_utils import get_wdclient, get_info_remote, list_remote"
   ]
  },
  {
   "cell_type": "markdown",
   "id": "3b32a2c7-6bc3-4a23-a7f3-be6163358654",
   "metadata": {},
   "source": [
    "## Global Configuration"
   ]
  },
  {
   "cell_type": "code",
   "execution_count": 2,
   "id": "efe9bea7-2750-4882-9dc5-5e4b4adbf273",
   "metadata": {},
   "outputs": [],
   "source": [
    "import fnmatch\n",
    "import json\n",
    "import getpass\n",
    "import os\n",
    "import pathlib\n",
    "import datetime\n",
    "                    \n",
    "from dask.distributed import LocalCluster, SSHCluster \n",
    "from laserfarm import Retiler, DataProcessing, GeotiffWriter, MacroPipeline\n",
    "from laserfarm.remote_utils import get_wdclient, get_info_remote, list_remote\n",
    "\n",
    "param_username = ''\n",
    "if 'JUPYTERHUB_USER' in os.environ:\n",
    "    param_username = os.environ['JUPYTERHUB_USER']\n",
    "    \n",
    "conf_remote_path_root = '/webdav/LAZ'\n",
    "conf_remote_path_split = pathlib.Path(conf_remote_path_root + '/split_'+param_username)\n",
    "conf_remote_path_retiled = pathlib.Path(conf_remote_path_root + '/retiled_'+param_username)\n",
    "conf_remote_path_norm = pathlib.Path(conf_remote_path_root + '/norm_'+param_username)\n",
    "conf_remote_path_targets = pathlib.Path(conf_remote_path_root + '/targets_'+param_username)\n",
    "conf_remote_path_geotiffs = pathlib.Path(conf_remote_path_root + '/geotiffs_'+conf_username)\n",
    "conf_local_tmp = pathlib.Path('/tmp')\n",
    "conf_remote_path_ahn = conf_remote_path_root\n",
    "\n",
    "\n",
    "param_hostname = 'https://lfw-ds001-i022.lifewatch.dev:32443/'\n",
    "param_login = '20BNXDdL8mg24OaD'\n",
    "param_password = 'zDoy0hNKkcnsdsQ@OYAVd'\n",
    "\n",
    "conf_feature_name = 'perc_95_normalized_height'\n",
    "conf_validate_precision = '0.001'\n",
    "conf_tile_mesh_size = '10.'\n",
    "conf_filter_type= 'select_equal'\n",
    "conf_attribute = 'raw_classification'\n",
    "conf_min_x = '-113107.81'\n",
    "conf_max_x = '398892.19'\n",
    "conf_min_y = '214783.87'\n",
    "conf_max_y = '726783.87'\n",
    "conf_n_tiles_side = '512'\n",
    "conf_apply_filter_value = '1'\n",
    "conf_laz_compression_factor = '7'\n",
    "conf_max_filesize = '262144000'  # desired max file size (in bytes)\n",
    "\n",
    "conf_wd_opts = { 'webdav_hostname': param_hostname, 'webdav_login': param_login, 'webdav_password': param_password}"
   ]
  },
  {
   "cell_type": "markdown",
   "id": "70913967-81e0-4b22-8b4d-aa1b3f5f2707",
   "metadata": {},
   "source": [
    "## Fetching Laz Files from remote WebDAV"
   ]
  },
  {
   "cell_type": "code",
   "execution_count": 3,
   "id": "30c8f77b-e28a-4b3b-aa29-5b18619251a5",
   "metadata": {},
   "outputs": [],
   "source": [
    "# Retrive Laz Files\n",
    "conf_wd_opts = { 'webdav_hostname': param_hostname, 'webdav_login': param_login, 'webdav_password': param_password}\n",
    "laz_files = [f for f in list_remote(get_wdclient(conf_wd_opts), pathlib.Path(conf_remote_path_ahn).as_posix())\n",
    "             if f.lower().endswith('.laz')]"
   ]
  },
  {
   "cell_type": "markdown",
   "id": "bbd4844f-d9f7-4a11-bb7a-69b40d9f0a3f",
   "metadata": {},
   "source": [
    "## Splitting big files into smaller files before retiling\n",
    "This step can be added if the original files are too large for normal VMs to process"
   ]
  },
  {
   "cell_type": "code",
   "execution_count": 4,
   "id": "9c935cbc-02b1-4f0a-a616-c2258a19931d",
   "metadata": {},
   "outputs": [
    {
     "name": "stdout",
     "output_type": "stream",
     "text": [
      "Splitting: C_01GZ2.LAZ\n",
      "Splitting: C_02CZ1.LAZ\n",
      "Splitting: C_01GN1.LAZ\n",
      "Splitting: C_01GN2.LAZ\n"
     ]
    }
   ],
   "source": [
    "# Split big files\n",
    "import numpy as np\n",
    "\n",
    "def save_chunk_to_laz_file(in_filename, \n",
    "                           out_filename, \n",
    "                           offset, \n",
    "                           n_points):\n",
    "    \"\"\"Read points from a LAS/LAZ file and write them to a new file.\"\"\"\n",
    "    \n",
    "    points = np.array([])\n",
    "    \n",
    "    with laspy.open(in_filename) as in_file:\n",
    "        with laspy.open(out_filename, \n",
    "                        mode=\"w\", \n",
    "                        header=in_file.header) as out_file:\n",
    "            in_file.seek(offset)\n",
    "            points = in_file.read_points(n_points)\n",
    "            out_file.write_points(points)\n",
    "    return len(points)\n",
    "\n",
    "def split_strategy(filename, max_filesize):\n",
    "    \"\"\"Set up splitting strategy for a LAS/LAZ file.\"\"\"\n",
    "    with laspy.open(filename) as f:\n",
    "        bytes_per_point = (\n",
    "            f.header.point_format.num_standard_bytes +\n",
    "            f.header.point_format.num_extra_bytes\n",
    "        )\n",
    "        n_points = f.header.point_count\n",
    "    n_points_target = int(\n",
    "        max_filesize * int(conf_laz_compression_factor) / bytes_per_point\n",
    "    )\n",
    "    stem, ext = os.path.splitext(filename)\n",
    "    return [\n",
    "        (filename, f\"{stem}-{n}{ext}\", offset, n_points_target)\n",
    "        for n, offset in enumerate(range(0, n_points, n_points_target))\n",
    "    ]\n",
    "\n",
    "from webdav3.client import Client\n",
    "\n",
    "client = Client(conf_wd_opts)\n",
    "client.mkdir(conf_remote_path_split.as_posix())\n",
    "\n",
    "\n",
    "remote_path_split = conf_remote_path_split\n",
    "\n",
    "for file in laz_files:\n",
    "    print('Splitting: '+file)\n",
    "    client.download_sync(remote_path=os.path.join(conf_remote_path_ahn,file), local_path=file)\n",
    "    inps = split_strategy(file, int(conf_max_filesize))\n",
    "    for inp in inps:\n",
    "        save_chunk_to_laz_file(*inp)\n",
    "    client.upload_sync(remote_path=os.path.join(conf_remote_path_split,file), local_path=file)\n",
    "\n",
    "    for f in os.listdir('.'):\n",
    "        if not f.endswith('.LAZ'):\n",
    "            continue\n",
    "        os.remove(os.path.join('.', f))\n",
    "        \n",
    "remote_path_retiled = str(conf_remote_path_retiled)"
   ]
  },
  {
   "cell_type": "code",
   "execution_count": 5,
   "id": "204919df-7caf-4c7b-8cee-02ff7201ca1c",
   "metadata": {},
   "outputs": [],
   "source": [
    "# Read splitted Laz Files\n",
    "remote_path_retiled\n",
    "\n",
    "split_laz_files = [f for f in list_remote(get_wdclient(conf_wd_opts), pathlib.Path(conf_remote_path_ahn).as_posix())\n",
    "             if f.lower().endswith('.laz')]"
   ]
  },
  {
   "cell_type": "markdown",
   "id": "caad5d0f-2cbb-4889-ae63-3972626db753",
   "metadata": {},
   "source": [
    "## Retiling of big files into smaller tiles"
   ]
  },
  {
   "cell_type": "code",
   "execution_count": null,
   "id": "034685db-0dda-48f9-98f3-fd38ae2525ca",
   "metadata": {
    "tags": []
   },
   "outputs": [
    {
     "name": "stderr",
     "output_type": "stream",
     "text": [
      "2023-04-08 11:19:54,204 -           laserfarm.pipeline_remote_data -       INFO - Input dir set to /tmp/C_01GZ2.LAZ_input\n",
      "2023-04-08 11:19:54,206 -           laserfarm.pipeline_remote_data -       INFO - Output dir set to /tmp/C_01GZ2.LAZ_output\n",
      "2023-04-08 11:19:54,207 -           laserfarm.pipeline_remote_data -       INFO - Pulling from WebDAV /webdav/LAZ/split_spiros.koulouzis@lifewatch.eu/C_01GZ2.LAZ ...\n"
     ]
    },
    {
     "name": "stdout",
     "output_type": "stream",
     "text": [
      "Retiling: C_01GZ2.LAZ\n"
     ]
    },
    {
     "name": "stderr",
     "output_type": "stream",
     "text": [
      "2023-04-08 11:20:04,049 -           laserfarm.pipeline_remote_data -       INFO - ... pulling completed.\n",
      "2023-04-08 11:20:04,051 -                        laserfarm.retiler -       INFO - Setting up the target grid\n",
      "2023-04-08 11:20:04,053 -                        laserfarm.retiler -       INFO - Splitting file /tmp/C_01GZ2.LAZ_input/C_01GZ2.LAZ with PDAL ...\n",
      "2023-04-08 11:20:33,565 -                        laserfarm.retiler -       INFO - ... splitting completed.\n",
      "2023-04-08 11:20:33,568 -                        laserfarm.retiler -       INFO - Redistributing files to tiles ...\n",
      "2023-04-08 11:20:33,573 -                        laserfarm.retiler -       INFO - ... file C_01GZ2_2.LAZ to tile_278_391\n",
      "2023-04-08 11:20:33,574 -                        laserfarm.retiler -       INFO - ... file C_01GZ2_5.LAZ to tile_283_391\n",
      "2023-04-08 11:20:33,576 -                        laserfarm.retiler -       INFO - ... file C_01GZ2_3.LAZ to tile_279_390\n",
      "2023-04-08 11:20:33,577 -                        laserfarm.retiler -       INFO - ... file C_01GZ2_4.LAZ to tile_279_391\n",
      "2023-04-08 11:20:33,579 -                        laserfarm.retiler -       INFO - ... file C_01GZ2_1.LAZ to tile_278_390\n",
      "2023-04-08 11:20:33,580 -                        laserfarm.retiler -       INFO - ... redistributing completed.\n",
      "2023-04-08 11:20:33,580 -                        laserfarm.retiler -       INFO - Validating split ...\n",
      "2023-04-08 11:20:33,581 -                        laserfarm.retiler -       INFO - ... 17041500 points in parent file\n",
      "2023-04-08 11:20:33,583 -                        laserfarm.retiler -       INFO - ... 3408833 points in C_01GZ2_2.LAZ\n",
      "2023-04-08 11:20:33,584 -                        laserfarm.retiler -       INFO - ... 10451195 points in C_01GZ2_1.LAZ\n",
      "2023-04-08 11:20:33,585 -                        laserfarm.retiler -       INFO - ... 2113064 points in C_01GZ2_3.LAZ\n",
      "2023-04-08 11:20:33,587 -                        laserfarm.retiler -       INFO - ... 1056063 points in C_01GZ2_4.LAZ\n",
      "2023-04-08 11:20:33,588 -                        laserfarm.retiler -       INFO - ... 12345 points in C_01GZ2_5.LAZ\n",
      "2023-04-08 11:20:33,588 -                        laserfarm.retiler -       INFO - ... split validation completed.\n",
      "2023-04-08 11:20:33,589 -           laserfarm.pipeline_remote_data -       INFO - Pushing to WebDAV /webdav/LAZ/retiled_spiros.koulouzis@lifewatch.eu ...\n",
      "2023-04-08 11:20:56,112 -           laserfarm.pipeline_remote_data -       INFO - ... pushing completed.\n",
      "2023-04-08 11:20:56,113 -           laserfarm.pipeline_remote_data -       INFO - Removing input and output folders\n",
      "2023-04-08 11:20:56,147 -           laserfarm.pipeline_remote_data -       INFO - Input dir set to /tmp/C_02CZ1.LAZ_input\n",
      "2023-04-08 11:20:56,148 -           laserfarm.pipeline_remote_data -       INFO - Output dir set to /tmp/C_02CZ1.LAZ_output\n",
      "2023-04-08 11:20:56,150 -           laserfarm.pipeline_remote_data -       INFO - Pulling from WebDAV /webdav/LAZ/split_spiros.koulouzis@lifewatch.eu/C_02CZ1.LAZ ...\n"
     ]
    },
    {
     "name": "stdout",
     "output_type": "stream",
     "text": [
      "Retiling: C_02CZ1.LAZ\n"
     ]
    },
    {
     "name": "stderr",
     "output_type": "stream",
     "text": [
      "2023-04-08 11:21:09,673 -           laserfarm.pipeline_remote_data -       INFO - ... pulling completed.\n",
      "2023-04-08 11:21:09,678 -                        laserfarm.retiler -       INFO - Setting up the target grid\n",
      "2023-04-08 11:21:09,681 -                        laserfarm.retiler -       INFO - Splitting file /tmp/C_02CZ1.LAZ_input/C_02CZ1.LAZ with PDAL ...\n",
      "2023-04-08 11:21:45,434 -                        laserfarm.retiler -       INFO - ... splitting completed.\n",
      "2023-04-08 11:21:45,438 -                        laserfarm.retiler -       INFO - Redistributing files to tiles ...\n",
      "2023-04-08 11:21:45,443 -                        laserfarm.retiler -       INFO - ... file C_02CZ1_7.LAZ to tile_296_391\n",
      "2023-04-08 11:21:45,445 -                        laserfarm.retiler -       INFO - ... file C_02CZ1_5.LAZ to tile_295_390\n",
      "2023-04-08 11:21:45,447 -                        laserfarm.retiler -       INFO - ... file C_02CZ1_3.LAZ to tile_294_390\n",
      "2023-04-08 11:21:45,448 -                        laserfarm.retiler -       INFO - ... file C_02CZ1_6.LAZ to tile_295_391\n",
      "2023-04-08 11:21:45,450 -                        laserfarm.retiler -       INFO - ... file C_02CZ1_8.LAZ to tile_296_390\n",
      "2023-04-08 11:21:45,451 -                        laserfarm.retiler -       INFO - ... file C_02CZ1_9.LAZ to tile_297_391\n",
      "2023-04-08 11:21:45,452 -                        laserfarm.retiler -       INFO - ... file C_02CZ1_4.LAZ to tile_294_391\n",
      "2023-04-08 11:21:45,454 -                        laserfarm.retiler -       INFO - ... file C_02CZ1_2.LAZ to tile_293_390\n",
      "2023-04-08 11:21:45,456 -                        laserfarm.retiler -       INFO - ... file C_02CZ1_1.LAZ to tile_293_391\n"
     ]
    }
   ],
   "source": [
    "# Retiling\n",
    "\n",
    "grid_retile = {\n",
    "    'min_x': float(conf_min_x),\n",
    "    'max_x': float(conf_max_x),\n",
    "    'min_y': float(conf_min_y),\n",
    "    'max_y': float(conf_max_y),\n",
    "    'n_tiles_side': int(conf_n_tiles_side)\n",
    "}\n",
    "\n",
    "retiling_input = {\n",
    "    'setup_local_fs': {'tmp_folder': conf_local_tmp.as_posix()},\n",
    "    'pullremote': conf_remote_path_split.as_posix(),\n",
    "    'set_grid': grid_retile,\n",
    "    'split_and_redistribute': {},\n",
    "    'validate': {},\n",
    "    'pushremote': conf_remote_path_retiled.as_posix(),\n",
    "    'cleanlocalfs': {}\n",
    "}\n",
    "\n",
    "for file in split_laz_files:\n",
    "    print('Retiling: '+file)\n",
    "    retiler = Retiler(file.replace('\"',''),label=file).config(retiling_input).setup_webdav_client(conf_wd_opts)\n",
    "    retiler_output = retiler.run()\n",
    "    \n",
    "    \n",
    "remote_path_retiled = conf_remote_path_retiled.as_posix()\n",
    "print(type(remote_path_retiled))"
   ]
  },
  {
   "cell_type": "code",
   "execution_count": null,
   "id": "c42e0dbb-1535-4527-8f29-4ad988848201",
   "metadata": {},
   "outputs": [],
   "source": [
    "print(retiler_output)"
   ]
  },
  {
   "cell_type": "code",
   "execution_count": null,
   "id": "f124b676-682d-4aae-a156-72e61c0ce66b",
   "metadata": {},
   "outputs": [],
   "source": [
    "# Retrive retiled tiles\n",
    "remote_path_retiled\n",
    "\n",
    "tiles = [t.strip('/') for t in list_remote(get_wdclient(conf_wd_opts), conf_remote_path_retiled.as_posix())\n",
    "         if fnmatch.fnmatch(t, 'tile_*_*/')]"
   ]
  },
  {
   "cell_type": "code",
   "execution_count": null,
   "id": "98f5a38d-a125-4218-8657-42322b50f842",
   "metadata": {},
   "outputs": [
    {
     "name": "stderr",
     "output_type": "stream",
     "text": [
      "2023-04-08 11:25:28,748 -                laserfarm.data_processing -       INFO - ... normalization completed.\n",
      "2023-04-08 11:25:28,751 -                laserfarm.data_processing -       INFO - Filtering point-cloud data\n",
      "2023-04-08 11:25:28,953 -                laserfarm.data_processing -       INFO - Setting up the target grid\n",
      "2023-04-08 11:25:28,955 -                laserfarm.data_processing -       INFO - Checking whether points belong to cell (278,391)\n",
      "2023-04-08 11:25:28,968 -                laserfarm.data_processing -       INFO - Generating target point mesh with 10.0m spacing \n",
      "2023-04-08 11:25:28,971 -                laserfarm.data_processing -       INFO - Building volume of type cell\n",
      "2023-04-08 11:25:28,972 -                laserfarm.data_processing -       INFO - Constructing neighborhoods\n",
      "2023-04-08 11:25:28,973 -                laserfarm.data_processing -       INFO - Starting feature extraction ...\n",
      "2023-04-08 11:25:28,974 -                                     root -       INFO - Cylinder size in Bytes: 6660176425.610363\n",
      "2023-04-08 11:25:28,975 -                                     root -       INFO - Memory size in Bytes: 16819240960\n",
      "2023-04-08 11:25:28,976 -                                     root -       INFO - Start tree creation\n",
      "2023-04-08 11:25:29,061 -                                     root -       INFO - Done with env tree creation\n",
      "2023-04-08 11:25:29,063 -                                     root -       INFO - Done with target tree creation\n",
      "2023-04-08 11:25:29,774 -                                     root -       INFO - Extracting feature(s) \"['perc_95_normalized_height']\"\n",
      "2023-04-08 11:25:29,916 -                                     root -       INFO - Extracting feature(s) \"['perc_95_normalized_height']\" took 0.14 seconds\n",
      "2023-04-08 11:25:29,920 -                laserfarm.data_processing -       INFO - ... feature extraction completed.\n",
      "2023-04-08 11:25:29,930 -                laserfarm.data_processing -       INFO - Exporting target point-cloud ...\n",
      "2023-04-08 11:25:29,931 -                laserfarm.data_processing -       INFO - ... exporting /tmp/tile_278_391_output/perc_95_normalized_height/tile_278_391.ply\n",
      "2023-04-08 11:25:30,031 -                laserfarm.data_processing -       INFO - ... exporting completed.\n",
      "2023-04-08 11:25:30,032 -           laserfarm.pipeline_remote_data -       INFO - Pushing to WebDAV /webdav/LAZ/targets_spiros.koulouzis@lifewatch.eu ...\n",
      "2023-04-08 11:25:33,944 -           laserfarm.pipeline_remote_data -       INFO - ... pushing completed.\n",
      "2023-04-08 11:25:33,953 -           laserfarm.pipeline_remote_data -       INFO - Input dir set to /tmp/tile_278_390_input\n",
      "2023-04-08 11:25:33,955 -           laserfarm.pipeline_remote_data -       INFO - Output dir set to /tmp/tile_278_390_output\n",
      "2023-04-08 11:25:33,958 -           laserfarm.pipeline_remote_data -       INFO - Pulling from WebDAV /webdav/LAZ/retiled_spiros.koulouzis@lifewatch.eu/tile_278_390 ...\n",
      "2023-04-08 11:25:41,263 -           laserfarm.pipeline_remote_data -       INFO - ... pulling completed.\n",
      "2023-04-08 11:25:41,270 -                laserfarm.data_processing -       INFO - Loading point cloud data ...\n",
      "2023-04-08 11:25:41,271 -                laserfarm.data_processing -       INFO - ... loading /tmp/tile_278_390_input/tile_278_390/C_01GZ2_1.LAZ\n",
      "2023-04-08 11:27:11,610 -                laserfarm.data_processing -       INFO - ... loading completed.\n",
      "2023-04-08 11:27:11,620 -                laserfarm.data_processing -       INFO - Normalizing point-cloud heights ...\n",
      "2023-04-08 11:27:14,475 -                                     root -       INFO - Cylinder size in Bytes: 5531209919.705151\n",
      "2023-04-08 11:27:14,476 -                                     root -       INFO - Memory size in Bytes: 16819240960\n",
      "2023-04-08 11:27:14,477 -                                     root -       INFO - Start tree creation\n",
      "2023-04-08 11:27:43,495 -                                     root -       INFO - Done with env tree creation\n",
      "2023-04-08 11:27:43,618 -                                     root -       INFO - Done with target tree creation\n"
     ]
    }
   ],
   "source": [
    "# Feature Extraction\n",
    "    \n",
    "for t in tiles:\n",
    "    features = [conf_feature_name]\n",
    "\n",
    "    tile_mesh_size = float(conf_tile_mesh_size)\n",
    "\n",
    "    grid_feature = {\n",
    "        'min_x': float(conf_min_x),\n",
    "        'max_x': float(conf_max_x),\n",
    "        'min_y': float(conf_min_y),\n",
    "        'max_y': float(conf_max_y),\n",
    "        'n_tiles_side': int(conf_n_tiles_side)\n",
    "    }\n",
    "\n",
    "    feature_extraction_input = {\n",
    "        'setup_local_fs': {'tmp_folder': conf_local_tmp.as_posix()},\n",
    "        'pullremote': conf_remote_path_retiled.as_posix(),\n",
    "        'load': {'attributes': [conf_attribute]},\n",
    "        'normalize': 1,\n",
    "        'apply_filter': {\n",
    "            'filter_type': conf_filter_type, \n",
    "            'attribute': conf_attribute,\n",
    "            'value': [int(conf_apply_filter_value)]#ground surface (2), water (9), buildings (6), artificial objects (26), vegetation (?), and unclassified (1)\n",
    "        },\n",
    "        'generate_targets': {\n",
    "            'tile_mesh_size' : tile_mesh_size,\n",
    "            'validate' : True,\n",
    "            'validate_precision': float(conf_validate_precision),\n",
    "            **grid_feature\n",
    "        },\n",
    "        'extract_features': {\n",
    "            'feature_names': features,\n",
    "            'volume_type': 'cell',\n",
    "            'volume_size': tile_mesh_size\n",
    "        },\n",
    "        'export_targets': {\n",
    "            'attributes': features,\n",
    "            'multi_band_files': False\n",
    "        },\n",
    "        'pushremote': conf_remote_path_targets.as_posix(),\n",
    "    #     'cleanlocalfs': {}\n",
    "    }\n",
    "    idx = (t.split('_')[1:])\n",
    "\n",
    "    processing = DataProcessing(t, tile_index=idx,label=t).config(feature_extraction_input).setup_webdav_client(conf_wd_opts)\n",
    "    processing.run()\n",
    "    \n",
    "remote_path_targets = conf_remote_path_targets.as_posix()\n",
    "\n",
    "print(type(remote_path_targets))"
   ]
  },
  {
   "cell_type": "code",
   "execution_count": null,
   "id": "fa231d82-5b7b-4699-ace6-472841262feb",
   "metadata": {},
   "outputs": [],
   "source": [
    "# GeoTIFF Export\n",
    "\n",
    "remote_path_targets\n",
    "\n",
    "#feature = features\n",
    "\n",
    "# setup input dictionary to configure the GeoTIFF export pipeline\n",
    "geotiff_export_input = {\n",
    "    'setup_local_fs': {'tmp_folder': conf_local_tmp.as_posix()},\n",
    "    'pullremote': conf_remote_path_targets.as_posix(),\n",
    "    'parse_point_cloud': {},\n",
    "    'data_split': {'xSub': 1, 'ySub': 1},\n",
    "    'create_subregion_geotiffs': {'output_handle': 'geotiff'},\n",
    "    'pushremote': conf_remote_path_geotiffs.as_posix(),\n",
    "    'cleanlocalfs': {}   \n",
    "}\n",
    "\n",
    "writer = GeotiffWriter(input_dir=conf_feature_name, bands=conf_feature_name, label=conf_feature_name).config(geotiff_export_input).setup_webdav_client(conf_wd_opts)\n",
    "writer.run()"
   ]
  },
  {
   "cell_type": "code",
   "execution_count": 3,
   "id": "a2436bb9-b227-4e29-be73-d7db000ab2ee",
   "metadata": {},
   "outputs": [
    {
     "data": {
      "text/plain": [
       "'spiros.koulouzis@lifewatch.eu'"
      ]
     },
     "execution_count": 3,
     "metadata": {},
     "output_type": "execute_result"
    }
   ],
   "source": [
    "import os\n",
    "\n",
    "if 'JUPYTERHUB_USER' in os.environ:\n",
    "    param_username = os.environ['JUPYTERHUB_USER']\n",
    "param_username"
   ]
  },
  {
   "cell_type": "code",
   "execution_count": null,
   "id": "87803666-105a-4185-bb3c-d6c8c76dcc32",
   "metadata": {},
   "outputs": [],
   "source": []
  }
 ],
 "metadata": {
  "kernelspec": {
   "display_name": "Python 3 (ipykernel)",
   "language": "python",
   "name": "python3"
  },
  "language_info": {
   "codemirror_mode": {
    "name": "ipython",
    "version": 3
   },
   "file_extension": ".py",
   "mimetype": "text/x-python",
   "name": "python",
   "nbconvert_exporter": "python",
   "pygments_lexer": "ipython3",
   "version": "3.9.16"
  }
 },
 "nbformat": 4,
 "nbformat_minor": 5
}
